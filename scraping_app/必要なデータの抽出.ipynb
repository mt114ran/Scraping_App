{
 "cells": [
  {
   "cell_type": "code",
   "execution_count": 1,
   "metadata": {},
   "outputs": [],
   "source": [
    "import pandas as pd"
   ]
  },
  {
   "cell_type": "code",
   "execution_count": 2,
   "metadata": {},
   "outputs": [],
   "source": [
    "df = pd.read_csv('assets/data.csv')"
   ]
  },
  {
   "cell_type": "code",
   "execution_count": 3,
   "metadata": {},
   "outputs": [
    {
     "data": {
      "text/html": [
       "<div>\n",
       "<style scoped>\n",
       "    .dataframe tbody tr th:only-of-type {\n",
       "        vertical-align: middle;\n",
       "    }\n",
       "\n",
       "    .dataframe tbody tr th {\n",
       "        vertical-align: top;\n",
       "    }\n",
       "\n",
       "    .dataframe thead th {\n",
       "        text-align: right;\n",
       "    }\n",
       "</style>\n",
       "<table border=\"1\" class=\"dataframe\">\n",
       "  <thead>\n",
       "    <tr style=\"text-align: right;\">\n",
       "      <th></th>\n",
       "      <th>date</th>\n",
       "      <th>subscribers</th>\n",
       "      <th>reviews</th>\n",
       "    </tr>\n",
       "  </thead>\n",
       "  <tbody>\n",
       "    <tr>\n",
       "      <th>0</th>\n",
       "      <td>2019/1/17</td>\n",
       "      <td>2671</td>\n",
       "      <td>194</td>\n",
       "    </tr>\n",
       "    <tr>\n",
       "      <th>1</th>\n",
       "      <td>2019/1/18</td>\n",
       "      <td>2671</td>\n",
       "      <td>195</td>\n",
       "    </tr>\n",
       "    <tr>\n",
       "      <th>2</th>\n",
       "      <td>2019/1/19</td>\n",
       "      <td>2674</td>\n",
       "      <td>197</td>\n",
       "    </tr>\n",
       "    <tr>\n",
       "      <th>3</th>\n",
       "      <td>2019/1/20</td>\n",
       "      <td>2685</td>\n",
       "      <td>199</td>\n",
       "    </tr>\n",
       "    <tr>\n",
       "      <th>4</th>\n",
       "      <td>2019/1/21</td>\n",
       "      <td>2695</td>\n",
       "      <td>199</td>\n",
       "    </tr>\n",
       "  </tbody>\n",
       "</table>\n",
       "</div>"
      ],
      "text/plain": [
       "        date  subscribers  reviews\n",
       "0  2019/1/17         2671      194\n",
       "1  2019/1/18         2671      195\n",
       "2  2019/1/19         2674      197\n",
       "3  2019/1/20         2685      199\n",
       "4  2019/1/21         2695      199"
      ]
     },
     "execution_count": 3,
     "metadata": {},
     "output_type": "execute_result"
    }
   ],
   "source": [
    "df.head()"
   ]
  },
  {
   "cell_type": "code",
   "execution_count": 6,
   "metadata": {},
   "outputs": [
    {
     "data": {
      "text/plain": [
       "str"
      ]
     },
     "execution_count": 6,
     "metadata": {},
     "output_type": "execute_result"
    }
   ],
   "source": [
    "type(df['date'][0])"
   ]
  },
  {
   "cell_type": "code",
   "execution_count": 7,
   "metadata": {},
   "outputs": [
    {
     "data": {
      "text/plain": [
       "'2019/1/17'"
      ]
     },
     "execution_count": 7,
     "metadata": {},
     "output_type": "execute_result"
    }
   ],
   "source": [
    "df['date'][0]"
   ]
  },
  {
   "cell_type": "code",
   "execution_count": 8,
   "metadata": {},
   "outputs": [],
   "source": [
    "import datetime"
   ]
  },
  {
   "cell_type": "code",
   "execution_count": 13,
   "metadata": {},
   "outputs": [
    {
     "data": {
      "text/plain": [
       "datetime.date(2019, 1, 17)"
      ]
     },
     "execution_count": 13,
     "metadata": {},
     "output_type": "execute_result"
    }
   ],
   "source": [
    "datetime.datetime.strptime(df['date'][0], '%Y/%m/%d').date()"
   ]
  },
  {
   "cell_type": "code",
   "execution_count": 15,
   "metadata": {},
   "outputs": [],
   "source": [
    "dates = []\n",
    "for _date in df['date']:\n",
    "    date = datetime.datetime.strptime(_date, '%Y/%m/%d').date()\n",
    "    dates.append(date)"
   ]
  },
  {
   "cell_type": "code",
   "execution_count": 17,
   "metadata": {},
   "outputs": [],
   "source": [
    "# dates"
   ]
  },
  {
   "cell_type": "code",
   "execution_count": 20,
   "metadata": {},
   "outputs": [
    {
     "data": {
      "text/plain": [
       "array([2671, 2671, 2674, 2685, 2695, 2701, 2710, 2718, 2722, 2725, 2734,\n",
       "       2753, 2773, 2785, 2803, 2845, 2847, 2847, 2851, 2852, 2857, 2861,\n",
       "       2865, 2870, 2875, 2892, 2906, 2919, 2942, 2974, 2977, 2978, 2981,\n",
       "       2983, 2984, 2987, 2989, 2993, 2995, 3009, 3014, 3023, 3031, 3052,\n",
       "       3060, 3062, 3063, 3066, 3071, 3074, 3076, 3077, 3080, 3087, 3089,\n",
       "       3093, 3098, 3104, 3112, 3120, 3131, 3142, 3162, 3173, 3180, 3187,\n",
       "       3189, 3196, 3212, 3220, 3226, 3241, 3253, 3255, 3258, 3262, 3264,\n",
       "       3272, 3275, 3276, 3279, 3285, 3300, 3306, 3312, 3319, 3324, 3328])"
      ]
     },
     "execution_count": 20,
     "metadata": {},
     "output_type": "execute_result"
    }
   ],
   "source": [
    "# 受講生の数\n",
    "n_subscribers = df['subscribers'].values\n",
    "n_subscribers"
   ]
  },
  {
   "cell_type": "code",
   "execution_count": 23,
   "metadata": {},
   "outputs": [
    {
     "data": {
      "text/plain": [
       "array([194, 195, 197, 199, 199, 200, 200, 201, 201, 201, 202, 204, 206,\n",
       "       208, 210, 211, 213, 213, 217, 218, 219, 220, 222, 224, 224, 227,\n",
       "       229, 229, 231, 232, 234, 234, 234, 234, 237, 239, 239, 241, 241,\n",
       "       241, 243, 243, 243, 244, 245, 246, 249, 252, 254, 255, 256, 258,\n",
       "       258, 261, 261, 262, 262, 262, 262, 262, 265, 266, 266, 268, 269,\n",
       "       271, 271, 274, 274, 274, 275, 275, 278, 278, 280, 282, 282, 282,\n",
       "       284, 287, 289, 289, 291, 293, 295, 295, 295, 298])"
      ]
     },
     "execution_count": 23,
     "metadata": {},
     "output_type": "execute_result"
    }
   ],
   "source": [
    "# レビューの数\n",
    "n_reviews = df['reviews'].values\n",
    "n_reviews"
   ]
  },
  {
   "cell_type": "code",
   "execution_count": 25,
   "metadata": {},
   "outputs": [
    {
     "data": {
      "text/plain": [
       "array([nan,  0.,  3., 11., 10.,  6.,  9.,  8.,  4.,  3.,  9., 19., 20.,\n",
       "       12., 18., 42.,  2.,  0.,  4.,  1.,  5.,  4.,  4.,  5.,  5., 17.,\n",
       "       14., 13., 23., 32.,  3.,  1.,  3.,  2.,  1.,  3.,  2.,  4.,  2.,\n",
       "       14.,  5.,  9.,  8., 21.,  8.,  2.,  1.,  3.,  5.,  3.,  2.,  1.,\n",
       "        3.,  7.,  2.,  4.,  5.,  6.,  8.,  8., 11., 11., 20., 11.,  7.,\n",
       "        7.,  2.,  7., 16.,  8.,  6., 15., 12.,  2.,  3.,  4.,  2.,  8.,\n",
       "        3.,  1.,  3.,  6., 15.,  6.,  6.,  7.,  5.,  4.])"
      ]
     },
     "execution_count": 25,
     "metadata": {},
     "output_type": "execute_result"
    }
   ],
   "source": [
    "diff_subscirbers = df['subscribers'].diff().values\n",
    "diff_subscirbers"
   ]
  },
  {
   "cell_type": "code",
   "execution_count": 26,
   "metadata": {},
   "outputs": [
    {
     "data": {
      "text/plain": [
       "array([nan,  1.,  2.,  2.,  0.,  1.,  0.,  1.,  0.,  0.,  1.,  2.,  2.,\n",
       "        2.,  2.,  1.,  2.,  0.,  4.,  1.,  1.,  1.,  2.,  2.,  0.,  3.,\n",
       "        2.,  0.,  2.,  1.,  2.,  0.,  0.,  0.,  3.,  2.,  0.,  2.,  0.,\n",
       "        0.,  2.,  0.,  0.,  1.,  1.,  1.,  3.,  3.,  2.,  1.,  1.,  2.,\n",
       "        0.,  3.,  0.,  1.,  0.,  0.,  0.,  0.,  3.,  1.,  0.,  2.,  1.,\n",
       "        2.,  0.,  3.,  0.,  0.,  1.,  0.,  3.,  0.,  2.,  2.,  0.,  0.,\n",
       "        2.,  3.,  2.,  0.,  2.,  2.,  2.,  0.,  0.,  3.])"
      ]
     },
     "execution_count": 26,
     "metadata": {},
     "output_type": "execute_result"
    }
   ],
   "source": [
    "diff_reviews = df['reviews'].diff().values\n",
    "diff_reviews"
   ]
  },
  {
   "cell_type": "code",
   "execution_count": null,
   "metadata": {},
   "outputs": [],
   "source": [
    "df = pd.read_csv('assets/data.csv')\n",
    "\n",
    "dates = []\n",
    "for _date in df['date']:\n",
    "    date = datetime.datetime.strptime(_date, '%Y/%m/%d').date()\n",
    "    dates.append(date)\n",
    "    \n",
    "n_subscribers = df['subscribers'].values\n",
    "n_reviews = df['reviews'].values\n",
    "\n",
    "diff_subscirbers = df['subscribers'].diff().values\n",
    "diff_reviews = df['reviews'].diff().values"
   ]
  },
  {
   "cell_type": "code",
   "execution_count": null,
   "metadata": {},
   "outputs": [],
   "source": []
  },
  {
   "cell_type": "code",
   "execution_count": null,
   "metadata": {},
   "outputs": [],
   "source": []
  },
  {
   "cell_type": "code",
   "execution_count": null,
   "metadata": {},
   "outputs": [],
   "source": []
  },
  {
   "cell_type": "code",
   "execution_count": null,
   "metadata": {},
   "outputs": [],
   "source": []
  }
 ],
 "metadata": {
  "kernelspec": {
   "display_name": "Python 3",
   "language": "python",
   "name": "python3"
  },
  "language_info": {
   "codemirror_mode": {
    "name": "ipython",
    "version": 3
   },
   "file_extension": ".py",
   "mimetype": "text/x-python",
   "name": "python",
   "nbconvert_exporter": "python",
   "pygments_lexer": "ipython3",
   "version": "3.7.0"
  }
 },
 "nbformat": 4,
 "nbformat_minor": 2
}
